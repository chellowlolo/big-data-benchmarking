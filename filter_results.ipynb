{
 "cells": [
  {
   "cell_type": "code",
   "execution_count": null,
   "metadata": {
    "collapsed": true
   },
   "outputs": [],
   "source": [
    "import os\n",
    "import pandas"
   ]
  },
  {
   "cell_type": "markdown",
   "metadata": {},
   "source": [
    "### Rename the CSV to preserve the original filename"
   ]
  },
  {
   "cell_type": "code",
   "execution_count": null,
   "metadata": {
    "collapsed": false
   },
   "outputs": [],
   "source": [
    "data_path = 'csv'\n",
    "csv_filename = 'big_data_benchmarking.csv'\n",
    "csv_filepath = os.path.join(data_path, csv_filename)\n",
    "\n",
    "if os.path.isfile(csv_filepath):\n",
    "    basename = os.path.splitext(os.path.basename(csv_filepath))[0]\n",
    "    renamed_filepath = os.path.join(data_path, basename + '_original.csv')\n",
    "    os.rename(csv_filepath, renamed_filepath)\n",
    "else:\n",
    "    print(\"No such file:  \" + csv_filepath)"
   ]
  },
  {
   "cell_type": "markdown",
   "metadata": {},
   "source": [
    "### Read the renamed CSV"
   ]
  },
  {
   "cell_type": "code",
   "execution_count": null,
   "metadata": {
    "collapsed": false
   },
   "outputs": [],
   "source": [
    "df = pandas.read_csv(renamed_filepath)\n",
    "df.head()"
   ]
  },
  {
   "cell_type": "markdown",
   "metadata": {},
   "source": [
    "### Drop duplicates"
   ]
  },
  {
   "cell_type": "code",
   "execution_count": null,
   "metadata": {
    "collapsed": false
   },
   "outputs": [],
   "source": [
    "# Optionally filter out Timeouts\n",
    "df = df[df['query_executed'] != 'Timeout!']\n",
    "df = df.sort_values(by='query_executed')\n",
    "subset_columns = ['category', 'concurrency_factor', 'database', 'name', 'query_id', \n",
    "                  'query_template', 'table_name', 'table_row_count', 'table_size_category']\n",
    "deduped_df = df.drop_duplicates(subset=subset_columns)\n",
    "deduped_df.sort_values(by='query_id').head()"
   ]
  },
  {
   "cell_type": "markdown",
   "metadata": {},
   "source": [
    "### Filter on table names"
   ]
  },
  {
   "cell_type": "code",
   "execution_count": null,
   "metadata": {
    "collapsed": false
   },
   "outputs": [],
   "source": [
    "filter_table_list = ['On_Time_Performance_ALL', \n",
    "                     'On_Time_Performance_1990-1999', 'On_Time_Performance_2000-2009', 'On_Time_Performance_2010-2016', \n",
    "                     'On_Time_Performance_1994', 'On_Time_Performance_2009', 'On_Time_Performance_2015', 'On_Time_Performance_2016', \n",
    "                     'On_Time_Performance_2015_3', 'On_Time_Performance_2016_5', 'On_Time_Performance_2016_8', 'On_Time_Performance_2016_12']\n",
    "filtered_df = deduped_df[deduped_df['table_name'].isin(filter_table_list)]\n",
    "filtered_df.head()"
   ]
  },
  {
   "cell_type": "markdown",
   "metadata": {},
   "source": [
    "### Write to CSV"
   ]
  },
  {
   "cell_type": "code",
   "execution_count": null,
   "metadata": {
    "collapsed": false
   },
   "outputs": [],
   "source": [
    "filtered_df.to_csv(csv_filepath, index=False)"
   ]
  }
 ],
 "metadata": {
  "kernelspec": {
   "display_name": "Python 3",
   "language": "python",
   "name": "python3"
  },
  "language_info": {
   "codemirror_mode": {
    "name": "ipython",
    "version": 3
   },
   "file_extension": ".py",
   "mimetype": "text/x-python",
   "name": "python",
   "nbconvert_exporter": "python",
   "pygments_lexer": "ipython3",
   "version": "3.5.3"
  }
 },
 "nbformat": 4,
 "nbformat_minor": 2
}
